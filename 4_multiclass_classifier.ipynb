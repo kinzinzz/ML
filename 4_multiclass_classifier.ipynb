{
  "nbformat": 4,
  "nbformat_minor": 0,
  "metadata": {
    "colab": {
      "provenance": []
    },
    "kernelspec": {
      "name": "python3",
      "display_name": "Python 3"
    },
    "language_info": {
      "name": "python"
    }
  },
  "cells": [
    {
      "cell_type": "code",
      "execution_count": null,
      "metadata": {
        "id": "z9cSPfk4QVgU"
      },
      "outputs": [],
      "source": [
        "import numpy as np\n",
        "import pandas as pd\n",
        "import matplotlib.pyplot as plt\n",
        "import seaborn as sns\n",
        "from sklearn.datasets import load_iris\n",
        "from sklearn.model_selection import train_test_split\n",
        "import torch\n",
        "import torch.nn as nn\n",
        "from torch.utils.data import TensorDataset, DataLoader"
      ]
    },
    {
      "cell_type": "code",
      "source": [
        "iris = load_iris()\n",
        "df = pd.DataFrame(data=iris.data, columns=iris.feature_names)\n",
        "df['label'] = iris.target"
      ],
      "metadata": {
        "id": "huu6MJreSPyd"
      },
      "execution_count": null,
      "outputs": []
    },
    {
      "cell_type": "code",
      "source": [
        "y = df['label']\n",
        "X = df.drop(['label'], axis=1)"
      ],
      "metadata": {
        "id": "5ARjYhSfSP0z"
      },
      "execution_count": null,
      "outputs": []
    },
    {
      "cell_type": "code",
      "source": [
        "X_train, X_test, y_train, y_test = train_test_split(X.values, y.values, random_state=42, stratify=y)"
      ],
      "metadata": {
        "id": "WsCyYBkBSP3v"
      },
      "execution_count": null,
      "outputs": []
    },
    {
      "cell_type": "code",
      "source": [
        "X_train = torch.tensor(X_train, dtype=torch.float32)\n",
        "X_test = torch.tensor(X_test, dtype=torch.float32)\n",
        "y_train = torch.tensor(y_train, dtype=torch.int64)\n",
        "y_test = torch.tensor(y_test, dtype=torch.int64)\n",
        "\n",
        "train_dataset = TensorDataset(X_train, y_train)\n",
        "test_dataset = TensorDataset(X_test, y_test)\n",
        "\n",
        "train_dataloader = DataLoader(train_dataset, batch_size=10, shuffle=True)\n",
        "test_dataloader = DataLoader(test_dataset, batch_size=10, shuffle=True)"
      ],
      "metadata": {
        "id": "JwTrwYPySP6W"
      },
      "execution_count": null,
      "outputs": []
    },
    {
      "cell_type": "code",
      "source": [
        "class NeuralNetwork(nn.Module):\n",
        "    def __init__(self):\n",
        "        super(NeuralNetwork, self).__init__()\n",
        "        self.input_layer    = nn.Linear(4, 16)\n",
        "        self.hidden_layer1  = nn.Linear(16, 32)\n",
        "        self.output_layer   = nn.Linear(32, 3)\n",
        "        self.relu = nn.ReLU()    \n",
        "    \n",
        "    def forward(self,x):\n",
        "        out =  self.relu(self.input_layer(x))\n",
        "        out =  self.relu(self.hidden_layer1(out))\n",
        "        out =  self.output_layer(out)\n",
        "        return out"
      ],
      "metadata": {
        "id": "iQE1x8kz9v5Q"
      },
      "execution_count": null,
      "outputs": []
    },
    {
      "cell_type": "code",
      "source": [
        "device = 'cuda' if torch.cuda.is_available() else 'cpu'\n",
        "print(f'device = {device}')\n",
        "\n",
        "model = NeuralNetwork().to(device)"
      ],
      "metadata": {
        "colab": {
          "base_uri": "https://localhost:8080/"
        },
        "id": "t9LYVzvt9v8C",
        "outputId": "c83f0b56-35f5-4a09-b654-2ca811855268"
      },
      "execution_count": null,
      "outputs": [
        {
          "output_type": "stream",
          "name": "stdout",
          "text": [
            "device = cpu\n"
          ]
        }
      ]
    },
    {
      "cell_type": "code",
      "source": [
        "learning_rate = 0.001\n",
        "loss = nn.CrossEntropyLoss()\n",
        "optimizer = torch.optim.Adam(model.parameters(),lr=learning_rate)"
      ],
      "metadata": {
        "id": "xwYk9snz9v-s"
      },
      "execution_count": null,
      "outputs": []
    },
    {
      "cell_type": "code",
      "source": [
        "def train_loop(train_loader, model, loss_fn, optimizer):\n",
        "    size = len(train_loader.dataset)\n",
        "\n",
        "    for batch, (X, y) in enumerate(train_loader):\n",
        "        X, y = X.to(device), y.to(device)\n",
        "        pred = model(X)\n",
        "\n",
        "        # 손실 계산\n",
        "        loss = loss_fn(pred, y)\n",
        "\n",
        "        # 역전파\n",
        "        optimizer.zero_grad()\n",
        "        loss.backward()\n",
        "        optimizer.step()\n",
        "        \n",
        "        loss, current = loss.item(), batch * len(X)\n",
        "        print(f'loss: {loss:>7f}  [{current:>5d}]/{size:5d}')\n"
      ],
      "metadata": {
        "id": "9VqIoVLN9wBb"
      },
      "execution_count": null,
      "outputs": []
    },
    {
      "cell_type": "code",
      "source": [
        "def test_loop(test_loader, model, loss_fn):\n",
        "    size = len(test_loader.dataset)\n",
        "    num_batches = len(test_loader)\n",
        "    test_loss, correct = 0, 0\n",
        "\n",
        "    with torch.no_grad():\n",
        "        for X, y in test_loader:\n",
        "            X, y = X.to(device), y.to(device)\n",
        "            pred = model(X)\n",
        "            test_loss += loss_fn(pred, y).item()\n",
        "            correct += (pred.argmax(1) == y).type(torch.float).sum().item()\n",
        "\n",
        "    test_loss /= num_batches\n",
        "    correct /= size\n",
        "    print(f\"Test Error: \\n Accuracy: {(100*correct):>0.1f}%, Avg loss: {test_loss:8f}\\n\")"
      ],
      "metadata": {
        "id": "w28xMAs49wEW"
      },
      "execution_count": null,
      "outputs": []
    },
    {
      "cell_type": "code",
      "source": [
        "epochs = 10\n",
        "\n",
        "for i in range(epochs) :\n",
        "    print(f\"Epoch {i+1} \\n------------------------\")\n",
        "    train_loop(train_dataloader, model, loss, optimizer)\n",
        "    test_loop(test_dataloader, model, loss)\n",
        "print(\"Done!\")"
      ],
      "metadata": {
        "colab": {
          "base_uri": "https://localhost:8080/"
        },
        "id": "N7ACnlds9wGD",
        "outputId": "af9ad6f0-be3e-4f56-e9f3-62c9484c8f25"
      },
      "execution_count": null,
      "outputs": [
        {
          "output_type": "stream",
          "name": "stdout",
          "text": [
            "Epoch 1 \n",
            "------------------------\n",
            "loss: 1.107460  [    0]/  112\n",
            "loss: 1.142883  [   10]/  112\n",
            "loss: 1.092416  [   20]/  112\n",
            "loss: 1.130637  [   30]/  112\n",
            "loss: 1.225811  [   40]/  112\n",
            "loss: 1.079539  [   50]/  112\n",
            "loss: 1.011783  [   60]/  112\n",
            "loss: 1.009363  [   70]/  112\n",
            "loss: 1.052150  [   80]/  112\n",
            "loss: 1.062375  [   90]/  112\n",
            "loss: 1.061682  [  100]/  112\n",
            "loss: 1.006883  [   22]/  112\n",
            "Test Error: \n",
            " Accuracy: 34.2%, Avg loss: 1.026808\n",
            "\n",
            "Epoch 2 \n",
            "------------------------\n",
            "loss: 1.038208  [    0]/  112\n",
            "loss: 1.098868  [   10]/  112\n",
            "loss: 0.988461  [   20]/  112\n",
            "loss: 1.037010  [   30]/  112\n",
            "loss: 0.993803  [   40]/  112\n",
            "loss: 1.002819  [   50]/  112\n",
            "loss: 0.899770  [   60]/  112\n",
            "loss: 1.027900  [   70]/  112\n",
            "loss: 1.002770  [   80]/  112\n",
            "loss: 0.969722  [   90]/  112\n",
            "loss: 1.096071  [  100]/  112\n",
            "loss: 1.106542  [   22]/  112\n",
            "Test Error: \n",
            " Accuracy: 34.2%, Avg loss: 0.976655\n",
            "\n",
            "Epoch 3 \n",
            "------------------------\n",
            "loss: 1.057000  [    0]/  112\n",
            "loss: 0.918456  [   10]/  112\n",
            "loss: 0.984511  [   20]/  112\n",
            "loss: 1.003687  [   30]/  112\n",
            "loss: 1.011627  [   40]/  112\n",
            "loss: 1.024011  [   50]/  112\n",
            "loss: 0.996763  [   60]/  112\n",
            "loss: 0.857310  [   70]/  112\n",
            "loss: 0.962222  [   80]/  112\n",
            "loss: 0.921653  [   90]/  112\n",
            "loss: 0.903487  [  100]/  112\n",
            "loss: 0.941695  [   22]/  112\n",
            "Test Error: \n",
            " Accuracy: 65.8%, Avg loss: 0.930136\n",
            "\n",
            "Epoch 4 \n",
            "------------------------\n",
            "loss: 0.911109  [    0]/  112\n",
            "loss: 0.918174  [   10]/  112\n",
            "loss: 0.924380  [   20]/  112\n",
            "loss: 0.973788  [   30]/  112\n",
            "loss: 0.886069  [   40]/  112\n",
            "loss: 0.925263  [   50]/  112\n",
            "loss: 0.864295  [   60]/  112\n",
            "loss: 0.882218  [   70]/  112\n",
            "loss: 0.930396  [   80]/  112\n",
            "loss: 0.911719  [   90]/  112\n",
            "loss: 0.840455  [  100]/  112\n",
            "loss: 0.933066  [   22]/  112\n",
            "Test Error: \n",
            " Accuracy: 65.8%, Avg loss: 0.876133\n",
            "\n",
            "Epoch 5 \n",
            "------------------------\n",
            "loss: 0.822964  [    0]/  112\n",
            "loss: 0.841233  [   10]/  112\n",
            "loss: 0.879525  [   20]/  112\n",
            "loss: 0.814009  [   30]/  112\n",
            "loss: 0.900329  [   40]/  112\n",
            "loss: 0.975732  [   50]/  112\n",
            "loss: 0.773942  [   60]/  112\n",
            "loss: 0.748211  [   70]/  112\n",
            "loss: 0.838505  [   80]/  112\n",
            "loss: 0.809042  [   90]/  112\n",
            "loss: 0.885480  [  100]/  112\n",
            "loss: 1.106594  [   22]/  112\n",
            "Test Error: \n",
            " Accuracy: 65.8%, Avg loss: 0.814048\n",
            "\n",
            "Epoch 6 \n",
            "------------------------\n",
            "loss: 0.685598  [    0]/  112\n",
            "loss: 0.867955  [   10]/  112\n",
            "loss: 0.819296  [   20]/  112\n",
            "loss: 0.778881  [   30]/  112\n",
            "loss: 0.810142  [   40]/  112\n",
            "loss: 0.723377  [   50]/  112\n",
            "loss: 0.859960  [   60]/  112\n",
            "loss: 0.775229  [   70]/  112\n",
            "loss: 0.695166  [   80]/  112\n",
            "loss: 0.866052  [   90]/  112\n",
            "loss: 0.762108  [  100]/  112\n",
            "loss: 0.698751  [   22]/  112\n",
            "Test Error: \n",
            " Accuracy: 65.8%, Avg loss: 0.755798\n",
            "\n",
            "Epoch 7 \n",
            "------------------------\n",
            "loss: 0.734729  [    0]/  112\n",
            "loss: 0.704031  [   10]/  112\n",
            "loss: 0.813933  [   20]/  112\n",
            "loss: 0.870896  [   30]/  112\n",
            "loss: 0.698368  [   40]/  112\n",
            "loss: 0.704722  [   50]/  112\n",
            "loss: 0.662651  [   60]/  112\n",
            "loss: 0.702004  [   70]/  112\n",
            "loss: 0.621660  [   80]/  112\n",
            "loss: 0.730548  [   90]/  112\n",
            "loss: 0.714136  [  100]/  112\n",
            "loss: 0.785100  [   22]/  112\n",
            "Test Error: \n",
            " Accuracy: 65.8%, Avg loss: 0.694710\n",
            "\n",
            "Epoch 8 \n",
            "------------------------\n",
            "loss: 0.636851  [    0]/  112\n",
            "loss: 0.641506  [   10]/  112\n",
            "loss: 0.805209  [   20]/  112\n",
            "loss: 0.606567  [   30]/  112\n",
            "loss: 0.643270  [   40]/  112\n",
            "loss: 0.739056  [   50]/  112\n",
            "loss: 0.629249  [   60]/  112\n",
            "loss: 0.634250  [   70]/  112\n",
            "loss: 0.654955  [   80]/  112\n",
            "loss: 0.734261  [   90]/  112\n",
            "loss: 0.621441  [  100]/  112\n",
            "loss: 0.703700  [   22]/  112\n",
            "Test Error: \n",
            " Accuracy: 65.8%, Avg loss: 0.645400\n",
            "\n",
            "Epoch 9 \n",
            "------------------------\n",
            "loss: 0.678546  [    0]/  112\n",
            "loss: 0.640037  [   10]/  112\n",
            "loss: 0.594150  [   20]/  112\n",
            "loss: 0.584998  [   30]/  112\n",
            "loss: 0.522866  [   40]/  112\n",
            "loss: 0.643476  [   50]/  112\n",
            "loss: 0.582287  [   60]/  112\n",
            "loss: 0.590607  [   70]/  112\n",
            "loss: 0.582809  [   80]/  112\n",
            "loss: 0.569368  [   90]/  112\n",
            "loss: 0.776119  [  100]/  112\n",
            "loss: 0.697097  [   22]/  112\n",
            "Test Error: \n",
            " Accuracy: 71.1%, Avg loss: 0.597889\n",
            "\n",
            "Epoch 10 \n",
            "------------------------\n",
            "loss: 0.682489  [    0]/  112\n",
            "loss: 0.531897  [   10]/  112\n",
            "loss: 0.557126  [   20]/  112\n",
            "loss: 0.585126  [   30]/  112\n",
            "loss: 0.390219  [   40]/  112\n",
            "loss: 0.539110  [   50]/  112\n",
            "loss: 0.611964  [   60]/  112\n",
            "loss: 0.647910  [   70]/  112\n",
            "loss: 0.542402  [   80]/  112\n",
            "loss: 0.599815  [   90]/  112\n",
            "loss: 0.559798  [  100]/  112\n",
            "loss: 0.677501  [   22]/  112\n",
            "Test Error: \n",
            " Accuracy: 84.2%, Avg loss: 0.562568\n",
            "\n",
            "Done!\n"
          ]
        }
      ]
    }
  ]
}