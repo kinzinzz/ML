{
  "nbformat": 4,
  "nbformat_minor": 0,
  "metadata": {
    "colab": {
      "provenance": [],
      "gpuType": "T4"
    },
    "kernelspec": {
      "name": "python3",
      "display_name": "Python 3"
    },
    "language_info": {
      "name": "python"
    },
    "accelerator": "GPU",
    "gpuClass": "standard"
  },
  "cells": [
    {
      "cell_type": "code",
      "source": [
        "%cd /content/drive/MyDrive/resnet/"
      ],
      "metadata": {
        "colab": {
          "base_uri": "https://localhost:8080/"
        },
        "id": "a6JBI85HraiT",
        "outputId": "a5589e8b-136e-4532-d67f-463887d5619d"
      },
      "execution_count": 2,
      "outputs": [
        {
          "output_type": "stream",
          "name": "stdout",
          "text": [
            "/content/drive/MyDrive/resnet\n"
          ]
        }
      ]
    },
    {
      "cell_type": "code",
      "source": [
        "!python main.py"
      ],
      "metadata": {
        "colab": {
          "base_uri": "https://localhost:8080/"
        },
        "id": "GtCZxeSDrslN",
        "outputId": "8ef71af7-2a89-414b-f99e-fb3bbddfbb03"
      },
      "execution_count": 3,
      "outputs": [
        {
          "output_type": "stream",
          "name": "stdout",
          "text": [
            "Downloading https://www.cs.toronto.edu/~kriz/cifar-10-python.tar.gz to ./data/cifar-10-python.tar.gz\n",
            "100% 170498071/170498071 [00:06<00:00, 26927723.63it/s]\n",
            "Extracting ./data/cifar-10-python.tar.gz to ./data\n",
            "Files already downloaded and verified\n",
            "epoch:0\n",
            "Loss:  7.89180757522583\n",
            "Loss:  3.2885262250900267\n",
            "Loss:  2.3852201795578\n",
            "Train Loss: 3.9582934117378175, Test accuracy: 21.59%\n",
            "epoch:1\n",
            "Loss:  2.0114144241809844\n",
            "Loss:  1.912128108739853\n",
            "Loss:  1.8688685429096221\n",
            "Train Loss: 1.9004096826324073, Test accuracy: 32.97%\n",
            "epoch:2\n",
            "Loss:  1.8197582602500915\n",
            "Loss:  1.7350403821468354\n",
            "Loss:  1.7224844551086427\n",
            "Train Loss: 1.7419304737959371, Test accuracy: 38.33%\n",
            "epoch:3\n",
            "Loss:  1.6931210887432098\n",
            "Loss:  1.644270224571228\n",
            "Loss:  1.6372066915035248\n",
            "Train Loss: 1.639591629242958, Test accuracy: 41.510000000000005%\n",
            "epoch:4\n",
            "Loss:  1.586674361228943\n",
            "Loss:  1.5647380101680755\n",
            "Loss:  1.5590960824489593\n",
            "Train Loss: 1.5573140916312138, Test accuracy: 43.65%\n"
          ]
        }
      ]
    }
  ]
}